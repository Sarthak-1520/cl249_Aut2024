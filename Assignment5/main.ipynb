{
 "cells": [
  {
   "cell_type": "markdown",
   "metadata": {},
   "source": [
    "## Question 1 "
   ]
  },
  {
   "cell_type": "code",
   "execution_count": 2,
   "metadata": {},
   "outputs": [
    {
     "name": "stdout",
     "output_type": "stream",
     "text": [
      "True Value : 1104\n",
      "Mid-point Rule Result: 1011.75 | Relative Error(%) : 8.355978260869565 %\n",
      "4-point Gaussian Quadrature Result: 1103.9999998608978 | Relative Error(%) : 1.2599838081096886e-08 % \n",
      "6-point Gaussian Quadrature Result: 934.170626680158 | Relative Error(%) : 15.383095409405984 %\n"
     ]
    }
   ],
   "source": [
    "class NumericalIntegration:\n",
    "    def __init__(self, f, a, b, n):\n",
    "        self.f = f\n",
    "        self.a = a\n",
    "        self.b = b\n",
    "        self.n = n\n",
    "\n",
    "    def simpsons_rule(self):\n",
    "        if self.n % 2 == 1:\n",
    "            raise ValueError(\"n must be even for Simpson's rule.\")\n",
    "        \n",
    "        h = (self.b - self.a) / self.n\n",
    "        x = self.a\n",
    "        result = self.f(x) + self.f(self.b)\n",
    "        \n",
    "        for i in range(1, self.n):\n",
    "            x += h\n",
    "            if i % 2 == 0:\n",
    "                result += 2 * self.f(x)\n",
    "            else:\n",
    "                result += 4 * self.f(x)\n",
    "        \n",
    "        result *= h / 3\n",
    "        return result\n",
    "\n",
    "    def trapezoidal_rule(self):\n",
    "        h = (self.b - self.a) / self.n\n",
    "        result = (self.f(self.a) + self.f(self.b)) / 2.0\n",
    "        \n",
    "        for i in range(1, self.n):\n",
    "            result += self.f(self.a + i * h)\n",
    "        \n",
    "        result *= h\n",
    "        return result\n",
    "\n",
    "    def midpoint_rule(self):\n",
    "        h = (self.b - self.a) / self.n\n",
    "        result = 0\n",
    "        \n",
    "        for i in range(self.n):\n",
    "            result += self.f(self.a + (i + 0.5) * h)\n",
    "        \n",
    "        result *= h\n",
    "        return result\n",
    "\n",
    "    def gaussian_quadrature(self):\n",
    "        if self.n == 2:\n",
    "            # 2-point Gaussian quadrature\n",
    "            nodes = [-0.5773502692, 0.5773502692]\n",
    "            weights = [1.0, 1.0]\n",
    "        elif self.n == 3:\n",
    "            # 3-point Gaussian quadrature\n",
    "            nodes = [-0.7745966692, 0.0, 0.7745966692]\n",
    "            weights = [0.5555555556, 0.8888888889, 0.5555555556]\n",
    "        elif self.n == 4:\n",
    "            # 4-point Gaussian quadrature\n",
    "            nodes = [-0.8611363116, -0.3399810435, 0.3399810435, 0.8611363116]\n",
    "            weights = [0.3478548451, 0.6521451549, 0.6521451549, 0.3478548451]\n",
    "        elif self.n == 6:\n",
    "            # 6-point Gaussian quadrature\n",
    "            nodes = [-0.9602898565, -0.7745966692, -0.4342437490, 0.4342437490, 0.7745966692, 0.9602898565]\n",
    "            weights = [0.0471753364, 0.2920426860, 0.5688888889, 0.5688888889, 0.2920426860, 0.0471753364]\n",
    "        else:\n",
    "            raise ValueError(\"This implementation only supports 2, 3, 4, or 6-point Gaussian quadrature.\")\n",
    "\n",
    "        result = 0.0\n",
    "        for i in range(self.n):\n",
    "            # Convert nodes from [-1, 1] to [a, b]\n",
    "            xi = ((self.b - self.a) / 2) * nodes[i] + (self.a + self.b) / 2\n",
    "            result += weights[i] * self.f(xi)\n",
    "\n",
    "        result *= (self.b - self.a) / 2\n",
    "        return result\n",
    "\n",
    "\n",
    "def q(x):\n",
    "    return 1 - x - 4*x**3 +2*x**5\n",
    "\n",
    "def RelError(Computed : float, true : float) -> float:\n",
    "    return abs((Computed - true))*100/true\n",
    "\n",
    "a = -2\n",
    "b = 4\n",
    "n = 6  # For Simpson's, Trapezoidal, and Mid-point (must be even for Simpson's)\n",
    "TrueVal = 1104\n",
    "\n",
    "\n",
    "\n",
    "integration = NumericalIntegration(q, a, b, n)\n",
    "print(f'True Value : {TrueVal}')\n",
    "\n",
    "print(f\"Mid-point Rule Result: {integration.midpoint_rule()} | Relative Error(%) : {RelError(integration.midpoint_rule(),TrueVal)} %\")\n",
    "\n",
    "# Gaussian Quadrature with 4 points\n",
    "integration_gauss_4 = NumericalIntegration(q, a, b, n=4)\n",
    "print(f\"4-point Gaussian Quadrature Result: {integration_gauss_4.gaussian_quadrature()} | Relative Error(%) : {RelError(integration_gauss_4.gaussian_quadrature(),TrueVal)} % \")\n",
    "\n",
    "# Gaussian Quadrature with 6 points\n",
    "integration_gauss_6 = NumericalIntegration(q, a, b, n=6)\n",
    "print(f\"6-point Gaussian Quadrature Result: {integration_gauss_6.gaussian_quadrature()} | Relative Error(%) : {RelError(integration_gauss_6.gaussian_quadrature(),TrueVal)} %\")\n",
    "\n",
    "\n"
   ]
  },
  {
   "cell_type": "markdown",
   "metadata": {},
   "source": [
    "## Question 2 "
   ]
  },
  {
   "cell_type": "code",
   "execution_count": 3,
   "metadata": {},
   "outputs": [
    {
     "data": {
      "text/html": [
       "<div>\n",
       "<style scoped>\n",
       "    .dataframe tbody tr th:only-of-type {\n",
       "        vertical-align: middle;\n",
       "    }\n",
       "\n",
       "    .dataframe tbody tr th {\n",
       "        vertical-align: top;\n",
       "    }\n",
       "\n",
       "    .dataframe thead th {\n",
       "        text-align: right;\n",
       "    }\n",
       "</style>\n",
       "<table border=\"1\" class=\"dataframe\">\n",
       "  <thead>\n",
       "    <tr style=\"text-align: right;\">\n",
       "      <th></th>\n",
       "      <th>Pressure</th>\n",
       "      <th>Vol</th>\n",
       "    </tr>\n",
       "  </thead>\n",
       "  <tbody>\n",
       "    <tr>\n",
       "      <th>0</th>\n",
       "      <td>336.0</td>\n",
       "      <td>0.5</td>\n",
       "    </tr>\n",
       "    <tr>\n",
       "      <th>1</th>\n",
       "      <td>294.4</td>\n",
       "      <td>2.0</td>\n",
       "    </tr>\n",
       "    <tr>\n",
       "      <th>2</th>\n",
       "      <td>266.4</td>\n",
       "      <td>3.0</td>\n",
       "    </tr>\n",
       "    <tr>\n",
       "      <th>3</th>\n",
       "      <td>260.8</td>\n",
       "      <td>4.0</td>\n",
       "    </tr>\n",
       "    <tr>\n",
       "      <th>4</th>\n",
       "      <td>260.5</td>\n",
       "      <td>6.0</td>\n",
       "    </tr>\n",
       "    <tr>\n",
       "      <th>5</th>\n",
       "      <td>249.6</td>\n",
       "      <td>8.0</td>\n",
       "    </tr>\n",
       "    <tr>\n",
       "      <th>6</th>\n",
       "      <td>193.6</td>\n",
       "      <td>10.0</td>\n",
       "    </tr>\n",
       "    <tr>\n",
       "      <th>7</th>\n",
       "      <td>165.6</td>\n",
       "      <td>11.0</td>\n",
       "    </tr>\n",
       "  </tbody>\n",
       "</table>\n",
       "</div>"
      ],
      "text/plain": [
       "   Pressure   Vol\n",
       "0     336.0   0.5\n",
       "1     294.4   2.0\n",
       "2     266.4   3.0\n",
       "3     260.8   4.0\n",
       "4     260.5   6.0\n",
       "5     249.6   8.0\n",
       "6     193.6  10.0\n",
       "7     165.6  11.0"
      ]
     },
     "execution_count": 3,
     "metadata": {},
     "output_type": "execute_result"
    }
   ],
   "source": [
    "import pandas as pd \n",
    "import numpy as np\n",
    "\n",
    "# Creating a numpy array for the dataTable \n",
    "dataset = np.array([[336,294.4,266.4,260.8,260.5,249.6,193.6,165.6],[0.5,2,3,4,6,8,10,11]])\n",
    "dataset = dataset.T\n",
    "df = pd.DataFrame(columns= ['Pressure','Vol'] ,data=dataset) \n",
    "\n",
    "df"
   ]
  },
  {
   "cell_type": "markdown",
   "metadata": {},
   "source": [
    "### Part a :"
   ]
  },
  {
   "cell_type": "code",
   "execution_count": 4,
   "metadata": {},
   "outputs": [
    {
     "name": "stdout",
     "output_type": "stream",
     "text": [
      "Trapezoidal Rule : 2670.9999999999995 kJ\n"
     ]
    }
   ],
   "source": [
    "def Trapezoidal(data : pd.DataFrame , n=8 ) -> float:\n",
    "    area = 0\n",
    "    Vol = list(data['Vol'])\n",
    "    P = list(data['Pressure'])\n",
    "    for i in range(1,n):\n",
    "        area += (Vol[i] - Vol[i-1])*(P[i]+P[i-1])*0.5\n",
    "    return area\n",
    "\n",
    "\n",
    "print(f'Trapezoidal Rule : {Trapezoidal(df)} kJ')"
   ]
  },
  {
   "cell_type": "markdown",
   "metadata": {},
   "source": [
    "### Part b:"
   ]
  },
  {
   "cell_type": "code",
   "execution_count": 5,
   "metadata": {},
   "outputs": [
    {
     "name": "stdout",
     "output_type": "stream",
     "text": [
      " Pure Simpson's Rule : 2580.9 KJ\n"
     ]
    }
   ],
   "source": [
    "def simpsons_rule(df : pd.DataFrame) -> float:\n",
    "    \n",
    "    x = df['Vol'].values\n",
    "    y = df['Pressure'].values\n",
    "    h = x[1] - x[0]\n",
    "    n = len(x)\n",
    "\n",
    "    integral = (h/3) * (y[0] + y[-1] + 4*np.sum(y[1:-1:2]) + 2*np.sum(y[2:-1:2]))\n",
    "    return integral\n",
    "\n",
    "# Example usage:\n",
    "print(f' Pure Simpson\\'s Rule : {simpsons_rule(df)} KJ')"
   ]
  },
  {
   "cell_type": "code",
   "execution_count": 6,
   "metadata": {},
   "outputs": [
    {
     "name": "stdout",
     "output_type": "stream",
     "text": [
      "Combined Approch Simpson's Rule 2490.7000000000003 KJ\n"
     ]
    }
   ],
   "source": [
    "def adaptive_integration(df: pd.DataFrame) -> float:\n",
    "    x = df['Vol'].values\n",
    "    y = df['Pressure'].values\n",
    "    h = x[1:] - x[:-1]  # calculate the differences between intervals\n",
    "\n",
    "    integral = 0\n",
    "    i = 0\n",
    "    while i < len(x) - 1:\n",
    "        # check if the next 3 sub-intervals are equal\n",
    "        if i + 3 <= len(x) - 1 and np.allclose(h[i:i+3], h[i]):\n",
    "            # apply Simpson's rule\n",
    "            #print('1')\n",
    "            integral += (h[i]/3) * (y[i] + y[i+3] + 4*y[i+1] + 2*y[i+2])\n",
    "            i += 3\n",
    "        else:\n",
    "            # check if the next sub-interval is equal to the current one\n",
    "            if i + 2 <= len(x) - 1 and np.allclose(h[i:i+2], h[i]):\n",
    "                # apply 3/8 rule\n",
    "                #print('2')\n",
    "                integral += (3/8) * h[i] * (y[i] + y[i+2] + 3*y[i+1])\n",
    "                i += 2\n",
    "            else:\n",
    "                # apply Trapezoidal rule\n",
    "                #print('3')\n",
    "                integral += (h[i] / 2) * (y[i] + y[i+1])\n",
    "                i += 1\n",
    "\n",
    "    return integral\n",
    "\n",
    "print(f'Combined Approch Simpson\\'s Rule {adaptive_integration(df)} KJ')"
   ]
  }
 ],
 "metadata": {
  "kernelspec": {
   "display_name": "cl249",
   "language": "python",
   "name": "python3"
  },
  "language_info": {
   "codemirror_mode": {
    "name": "ipython",
    "version": 3
   },
   "file_extension": ".py",
   "mimetype": "text/x-python",
   "name": "python",
   "nbconvert_exporter": "python",
   "pygments_lexer": "ipython3",
   "version": "3.12.4"
  }
 },
 "nbformat": 4,
 "nbformat_minor": 2
}
