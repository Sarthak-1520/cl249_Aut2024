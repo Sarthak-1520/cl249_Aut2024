{
 "cells": [
  {
   "cell_type": "markdown",
   "metadata": {},
   "source": [
    "## Question #1 \n"
   ]
  },
  {
   "cell_type": "code",
   "execution_count": 40,
   "metadata": {},
   "outputs": [],
   "source": [
    "def dT_dt(T):\n",
    "    return T**3 -581*T**2 -8870*T -29800\n",
    "def d2T_dt2(T):\n",
    "    return 3*T**2 - 1162*T - 17700\n",
    "\n",
    "T0 =1000"
   ]
  },
  {
   "cell_type": "markdown",
   "metadata": {},
   "source": [
    "At steady state the Time dependence of the system is null.\n",
    "- $\\frac{dT}{dt} = 0$\n",
    "- Hence we must solve a Cubic equation to calculate $T^{ss}$\n",
    "- t=0 => $T_0=298K$"
   ]
  },
  {
   "cell_type": "code",
   "execution_count": 41,
   "metadata": {},
   "outputs": [
    {
     "data": {
      "image/png": "[encoded data removed]",
      "text/plain": [
       "<Figure size 640x480 with 1 Axes>"
      ]
     },
     "metadata": {},
     "output_type": "display_data"
    }
   ],
   "source": [
    "## Visulization\n",
    "import numpy as np\n",
    "import matplotlib.pyplot as plt\n",
    "T = np.linspace(0, 1000, 1000)\n",
    "\n",
    "plt.plot(T, dT_dt(T))\n",
    "plt.grid(True)\n",
    "plt.show()\n",
    "\n"
   ]
  },
  {
   "cell_type": "code",
   "execution_count": 42,
   "metadata": {},
   "outputs": [
    {
     "data": {
      "text/plain": [
       "595.9672695167128"
      ]
     },
     "execution_count": 42,
     "metadata": {},
     "output_type": "execute_result"
    }
   ],
   "source": [
    "## Solve the Cubic Equation\n",
    "def newton(f, fder, x0, eps):\n",
    "    x = x0\n",
    "    while abs(f(x)) > eps:\n",
    "        x = x - f(x)/fder(x)\n",
    "    return x\n",
    "\n",
    "def bisection(f, a, b, eps):\n",
    "    if np.sign(f(a)) == np.sign(f(b)):\n",
    "        raise Exception(\n",
    "            \"bisection method fails. f(a) and f(b) must have different signs.\"\n",
    "        )\n",
    "    fa = f(a)\n",
    "\n",
    "    for i in range(100):\n",
    "        c = (a + b)/2\n",
    "        fc = f(c)\n",
    "        if np.abs(fc) < eps:\n",
    "            return c\n",
    "        if np.sign(fc) == np.sign(fa):\n",
    "            a = c\n",
    "            fa = fc\n",
    "        else:\n",
    "            b = c\n",
    "\n",
    "    return c\n",
    "\n",
    "Tss = bisection(dT_dt, 0, 1000, 1e-6)\n",
    "Tss"
   ]
  },
  {
   "cell_type": "markdown",
   "metadata": {},
   "source": [
    "## Question #2 "
   ]
  },
  {
   "cell_type": "markdown",
   "metadata": {},
   "source": [
    "- Solving $Mx=Y$ using LU decomposition"
   ]
  },
  {
   "cell_type": "code",
   "execution_count": 43,
   "metadata": {},
   "outputs": [
    {
     "name": "stdout",
     "output_type": "stream",
     "text": [
      "Solution of the system Mx = Y : [-1.06153846  0.76923077  1.93846154 -1.63076923]\n"
     ]
    },
    {
     "name": "stderr",
     "output_type": "stream",
     "text": [
      "/var/folders/l9/6h3jgt952zj83sn29s4vbqvr0000gn/T/ipykernel_88413/3664965087.py:46: DeprecationWarning: Conversion of an array with ndim > 0 to a scalar is deprecated, and will error in future. Ensure you extract a single element from your array before performing this operation. (Deprecated NumPy 1.25.)\n",
      "  y[i] = (Pb[i] - np.dot(L[i, :i], y[:i]).item()) / L[i, i]\n"
     ]
    }
   ],
   "source": [
    "M = np.array(\n",
    " [ [1,4,2,3],\n",
    "   [0,1,4,4],\n",
    "   [-1,0,1,0],\n",
    "   [2,0,4,1]  \n",
    " ] , dtype=float    \n",
    ")\n",
    "rho = 0.8\n",
    "P0 = 1 \n",
    "dL = 1 \n",
    "Y = np.array([1,2,3,4],dtype=float).reshape((4,1))\n",
    "\n",
    "def lu_decomposition_with_pivoting(A):\n",
    "    n = A.shape[0]\n",
    "    L = np.eye(n)\n",
    "    U = A.copy()\n",
    "    P = np.eye(n)  \n",
    "    \n",
    "    for i in range(n):\n",
    "\n",
    "        max_index = np.argmax(np.abs(U[i:, i])) + i\n",
    "        if i != max_index:\n",
    "            # Swap rows in U\n",
    "            U[[i, max_index], :] = U[[max_index, i], :]\n",
    "\n",
    "            if i > 0:\n",
    "                L[[i, max_index], :i] = L[[max_index, i], :i]\n",
    "\n",
    "            P[[i, max_index], :] = P[[max_index, i], :]\n",
    "        \n",
    "        # LU Decomposition as usual\n",
    "        for j in range(i+1, n):\n",
    "            L[j, i] = U[j, i] / U[i, i]\n",
    "            U[j, :] -= L[j, i] * U[i, :]\n",
    "    \n",
    "    return P, L, U\n",
    "\n",
    "def solve_with_pivoting(A, b):\n",
    "    P, L, U = lu_decomposition_with_pivoting(A)\n",
    "    n = A.shape[0]\n",
    "    \n",
    "    Pb = np.dot(P, b)\n",
    "    \n",
    "    y = np.zeros(n)\n",
    "    for i in range(n):\n",
    "        y[i] = (Pb[i] - np.dot(L[i, :i], y[:i]).item()) / L[i, i]  \n",
    "    \n",
    "    x = np.zeros(n)\n",
    "    for i in range(n-1, -1, -1):\n",
    "        x[i] = (y[i] - np.dot(U[i, i+1:], x[i+1:]).item()) / U[i, i]  \n",
    "    \n",
    "    return x\n",
    "\n",
    "\n",
    "x = solve_with_pivoting(M, Y)\n",
    "print(f\"Solution of the system Mx = Y : {x}\")\n"
   ]
  },
  {
   "cell_type": "code",
   "execution_count": 44,
   "metadata": {},
   "outputs": [
    {
     "name": "stdout",
     "output_type": "stream",
     "text": [
      "P is : 0.3665384615384619\n"
     ]
    }
   ],
   "source": [
    "def dP_dL(rho :float ,x : np.array) -> float:\n",
    "    return x[0]*rho + x[1]*rho**2 + x[2]*rho**-2 + x[3]*rho**-1\n",
    "P = P0 - dP_dL(rho, x)*dL\n",
    "print(f\"P is : {P0 - dP_dL(rho, x)*dL}\" )\n",
    "    "
   ]
  },
  {
   "cell_type": "markdown",
   "metadata": {},
   "source": [
    "## QUESTION #3\n"
   ]
  },
  {
   "cell_type": "code",
   "execution_count": 45,
   "metadata": {},
   "outputs": [
    {
     "name": "stdout",
     "output_type": "stream",
     "text": [
      "The value of epsilon is : 1.600000\n"
     ]
    }
   ],
   "source": [
    "dl = np.array([0.1,0.2,0.3,0.6,0.9,1])\n",
    "a = np.array([4,1,4,0.5,1,3])\n",
    "\n",
    "def Integral_Trapezoidal(a, dl):\n",
    "    sum = 0 \n",
    "    for i in range(1,len(a)):\n",
    "        sum += (a[i] + a[i-1])*0.5 * (dl[i] -dl[i-1])\n",
    "    return sum\n",
    "\n",
    "epsilon = Integral_Trapezoidal(a, dl)\n",
    "print(f\"The value of epsilon is : {Integral_Trapezoidal(a, dl):2f}\")\n",
    "    \n",
    "\n"
   ]
  },
  {
   "cell_type": "markdown",
   "metadata": {},
   "source": [
    "## QUESTION #4"
   ]
  },
  {
   "cell_type": "code",
   "execution_count": 46,
   "metadata": {},
   "outputs": [
    {
     "data": {
      "image/png": "[encoded data removed]",
      "text/plain": [
       "<Figure size 640x480 with 1 Axes>"
      ]
     },
     "metadata": {},
     "output_type": "display_data"
    }
   ],
   "source": [
    "T = np.array([400,450,500,550,600,650])\n",
    "K = np.array([0.1,3.2,10.4,20.8,25.5,32.3])\n",
    "\n",
    "plt.plot(T, K)\n",
    "plt.grid(True)\n",
    "# Plotting Line x = Tss on the graph\n",
    "plt.axvline(x=Tss, color='r', linestyle='--')\n",
    "plt.xlabel(\"Temperature\")\n",
    "plt.ylabel(\"K\")\n",
    "\n",
    "plt.show()"
   ]
  },
  {
   "cell_type": "markdown",
   "metadata": {},
   "source": [
    "We notice that the Line x = Tss Passes through our data points we can Linearise the interval bin to predict K(Tss)"
   ]
  },
  {
   "cell_type": "code",
   "execution_count": 47,
   "metadata": {},
   "outputs": [
    {
     "name": "stdout",
     "output_type": "stream",
     "text": [
      "The value of K at Tss is :  25.120923334571003\n"
     ]
    }
   ],
   "source": [
    "def Linear(T):\n",
    "    slope = (25.5 - 20.8 )/ (600 - 550)\n",
    "    return slope * (T - 550) + 20.8\n",
    "\n",
    "\n",
    "k_Tss = Linear(Tss) \n",
    "print(\"The value of K at Tss is : \", Linear(Tss)) \n"
   ]
  },
  {
   "cell_type": "markdown",
   "metadata": {},
   "source": [
    "## Question #5"
   ]
  },
  {
   "cell_type": "code",
   "execution_count": 48,
   "metadata": {},
   "outputs": [
    {
     "data": {
      "image/png": "[encoded data removed]",
      "text/plain": [
       "<Figure size 640x480 with 1 Axes>"
      ]
     },
     "metadata": {},
     "output_type": "display_data"
    }
   ],
   "source": [
    "import numpy as np\n",
    "import matplotlib.pyplot as plt\n",
    "\n",
    "# Constants (Provide appropriate values for constants)\n",
    "k = k_Tss     # Reaction rate constant\n",
    "C_A0 = 0.5     # Initial concentration of A in mol/m^3\n",
    "epsilon = epsilon  # Porosity factor (provide value)\n",
    "P = P        # Reactor outlet pressure (atm)\n",
    "P0 = 1         # Inlet pressure (atm)\n",
    "T0 = 298       # Initial temperature (K)\n",
    "T = Tss        # Steady state temperature (provide value)\n",
    "F_A0 = 1       # Molar flow rate of A (mol/s)\n",
    "\n",
    "# Differential equation dx/dW\n",
    "def dx_dW(W, x, k, C_A0, epsilon, P, P0, T0, T):\n",
    "    return (W / (1 + W**2)**2) * (k * C_A0 * epsilon * (1 - x) * (P / P0) * (T0 / T))\n",
    "\n",
    "# RK4 method for solving the ODE\n",
    "def rk4_manual(f, x0, W0, W_max, step_size, tol = 1e-06):\n",
    "    # Calculate the number of steps needed\n",
    "    num_steps = int((W_max - W0) / step_size) + 1\n",
    "    \n",
    "    # Initialize W and x arrays manually\n",
    "    W_values = [0] * num_steps\n",
    "    x_values = [0] * num_steps\n",
    "    \n",
    "    # Set initial values\n",
    "    W_values[0] = W0\n",
    "    x_values[0] = x0\n",
    "    x = x0\n",
    "    \n",
    "    # Perform the RK4 steps\n",
    "    for i in range(1, num_steps):\n",
    "        W = W_values[i-1]\n",
    "        \n",
    "        # Compute the four k-values for RK4\n",
    "        k1 = step_size * f(W, x, k, C_A0, epsilon, P, P0, T0, T)\n",
    "        k2 = step_size * f(W + 0.5 * step_size, x + 0.5 * k1, k, C_A0, epsilon, P, P0, T0, T)\n",
    "        k3 = step_size * f(W + 0.5 * step_size, x + 0.5 * k2, k, C_A0, epsilon, P, P0, T0, T)\n",
    "        k4 = step_size * f(W + step_size, x + k3, k, C_A0, epsilon, P, P0, T0, T)\n",
    "        \n",
    "        # Update x and W\n",
    "        x_new = x + (1 / 6) * (k1 + 2 * k2 + 2 * k3 + k4)\n",
    "        W_values[i] = W_values[i-1] + step_size\n",
    "        x_values[i] = x_new\n",
    "        \n",
    "        if abs(x_new - x) < tol:\n",
    "            W_values = W_values[:i+1]  # Truncate the list to current length\n",
    "            x_values = x_values[:i+1]  # Truncate the list to current length\n",
    "            break\n",
    "\n",
    "        x = x_new\n",
    "\n",
    "    return W_values, x_values\n",
    "\n",
    "\n",
    "\n",
    "\n",
    "\n",
    "# Parameters for RK4\n",
    "step_size = 0.2  # Given step size\n",
    "W0 = 0           # Initial weight of catalyst\n",
    "W_max = 1000     # Arbitrary max weight of the catalyst bed\n",
    "x0 = 0           # Initial conversion x(0) = 0\n",
    "\n",
    "# Solve the ODE with RK4 method\n",
    "W_values, x_values = rk4_manual(dx_dW, x0, W0, W_max, step_size)\n",
    "\n",
    "# Plot the results\n",
    "plt.plot(W_values, x_values)\n",
    "plt.xlabel('Weight of Catalyst (W)')\n",
    "plt.ylabel('Conversion (x)')\n",
    "plt.title('Conversion vs Weight of Catalyst')\n",
    "plt.grid(True)\n",
    "plt.show()\n"
   ]
  },
  {
   "cell_type": "code",
   "execution_count": 49,
   "metadata": {},
   "outputs": [
    {
     "name": "stdout",
     "output_type": "stream",
     "text": [
      "Equilibrium conversion of A is :  0.841328\n"
     ]
    }
   ],
   "source": [
    "print( \"Equilibrium conversion of A is : \", round(max(x_values),6)) "
   ]
  },
  {
   "cell_type": "code",
   "execution_count": 50,
   "metadata": {},
   "outputs": [
    {
     "name": "stdout",
     "output_type": "stream",
     "text": [
      "Max value of W is :  49.000000000000156\n"
     ]
    }
   ],
   "source": [
    "print(\"Max value of W is : \", max(W_values))"
   ]
  },
  {
   "cell_type": "code",
   "execution_count": null,
   "metadata": {},
   "outputs": [],
   "source": []
  }
 ],
 "metadata": {
  "kernelspec": {
   "display_name": "cl249",
   "language": "python",
   "name": "python3"
  },
  "language_info": {
   "codemirror_mode": {
    "name": "ipython",
    "version": 3
   },
   "file_extension": ".py",
   "mimetype": "text/x-python",
   "name": "python",
   "nbconvert_exporter": "python",
   "pygments_lexer": "ipython3",
   "version": "3.12.4"
  }
 },
 "nbformat": 4,
 "nbformat_minor": 2
}
