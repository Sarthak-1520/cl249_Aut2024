{
 "cells": [
  {
   "cell_type": "code",
   "execution_count": 1,
   "metadata": {},
   "outputs": [
    {
     "name": "stdout",
     "output_type": "stream",
     "text": [
      "['# Time (seconds) and Position (meters)\\n', '# Time    Position\\n', '0.0      0.0\\n', '1.0      2.5\\n', '2.0      9.8\\n', '3.0      22.3\\n', '4.0      40.0\\n', '5.0      62.5\\n']\n",
      "['# Time (seconds) and Position (meters)', '# Time    Position']\n",
      "['0.0      0.0', '1.0      2.5', '2.0      9.8', '3.0      22.3', '4.0      40.0', '5.0      62.5']\n",
      "[['0.0', '0.0'], ['1.0', '2.5'], ['2.0', '9.8'], ['3.0', '22.3'], ['4.0', '40.0'], ['5.0', '62.5']]\n",
      "[0.0, 1.0, 2.0, 3.0, 4.0, 5.0]\n",
      "[0.0, 2.5, 9.8, 22.3, 40.0, 62.5]\n"
     ]
    }
   ],
   "source": [
    "import numpy as np\n",
    "import pandas as pd \n",
    "import matplotlib.pyplot as plt\n",
    "\n",
    "def read_data(file_name):\n",
    "    file1 = open(f'{file_name}', 'r')\n",
    "    with file1 as f:\n",
    "        data = f.readlines()\n",
    "        print(data) \n",
    "        header = [x.strip() for x in data if x[0] == '#']\n",
    "        print(header)\n",
    "        data = [x.strip() for x in data if x[0] != '#']\n",
    "        print(data)\n",
    "        data = [x.split() for x in data]\n",
    "        print(data)\n",
    "        time = [float(x[0]) for x in data]  \n",
    "        position = [float(x[1]) for x in data]\n",
    "        print(time)\n",
    "        print(position)\n",
    "        t = np.array(time)\n",
    "        s = np.array(position)\n",
    "        n = len(t)\n",
    "        \n",
    "    return t ,s , n \n",
    "\n",
    "t, s ,n = read_data('./Asssignment6_Q1.txt')"
   ]
  },
  {
   "cell_type": "code",
   "execution_count": 2,
   "metadata": {},
   "outputs": [
    {
     "name": "stdout",
     "output_type": "stream",
     "text": [
      "Extracted Data\n"
     ]
    },
    {
     "data": {
      "text/html": [
       "<div>\n",
       "<style scoped>\n",
       "    .dataframe tbody tr th:only-of-type {\n",
       "        vertical-align: middle;\n",
       "    }\n",
       "\n",
       "    .dataframe tbody tr th {\n",
       "        vertical-align: top;\n",
       "    }\n",
       "\n",
       "    .dataframe thead th {\n",
       "        text-align: right;\n",
       "    }\n",
       "</style>\n",
       "<table border=\"1\" class=\"dataframe\">\n",
       "  <thead>\n",
       "    <tr style=\"text-align: right;\">\n",
       "      <th></th>\n",
       "      <th>time</th>\n",
       "      <th>position</th>\n",
       "    </tr>\n",
       "  </thead>\n",
       "  <tbody>\n",
       "    <tr>\n",
       "      <th>0</th>\n",
       "      <td>0.0</td>\n",
       "      <td>0.0</td>\n",
       "    </tr>\n",
       "    <tr>\n",
       "      <th>1</th>\n",
       "      <td>1.0</td>\n",
       "      <td>2.5</td>\n",
       "    </tr>\n",
       "    <tr>\n",
       "      <th>2</th>\n",
       "      <td>2.0</td>\n",
       "      <td>9.8</td>\n",
       "    </tr>\n",
       "    <tr>\n",
       "      <th>3</th>\n",
       "      <td>3.0</td>\n",
       "      <td>22.3</td>\n",
       "    </tr>\n",
       "    <tr>\n",
       "      <th>4</th>\n",
       "      <td>4.0</td>\n",
       "      <td>40.0</td>\n",
       "    </tr>\n",
       "    <tr>\n",
       "      <th>5</th>\n",
       "      <td>5.0</td>\n",
       "      <td>62.5</td>\n",
       "    </tr>\n",
       "  </tbody>\n",
       "</table>\n",
       "</div>"
      ],
      "text/plain": [
       "   time  position\n",
       "0   0.0       0.0\n",
       "1   1.0       2.5\n",
       "2   2.0       9.8\n",
       "3   3.0      22.3\n",
       "4   4.0      40.0\n",
       "5   5.0      62.5"
      ]
     },
     "execution_count": 2,
     "metadata": {},
     "output_type": "execute_result"
    }
   ],
   "source": [
    "df = pd.DataFrame({'time': t, 'position': s})\n",
    "print(\"Extracted Data\")\n",
    "df"
   ]
  },
  {
   "cell_type": "code",
   "execution_count": 3,
   "metadata": {},
   "outputs": [
    {
     "name": "stdout",
     "output_type": "stream",
     "text": [
      "Velocity at each time step: [ 2.5  4.9  9.9 15.1 20.1 22.5]\n",
      "Total distance traveled by the train: 62.5\n"
     ]
    }
   ],
   "source": [
    "def finite_difference_velocity(t, s):\n",
    "    v = np.zeros(n)\n",
    "    \n",
    "    # Central difference for interior points\n",
    "    for i in range(1, n-1):\n",
    "        v[i] = (s[i+1] - s[i-1]) / (t[i+1] - t[i-1])\n",
    "    \n",
    "    # Forward difference for the first point\n",
    "    v[0] = (s[1] - s[0]) / (t[1] - t[0])\n",
    "    \n",
    "    # Backward difference for the last point\n",
    "    v[-1] = (s[-1] - s[-2]) / (t[-1] - t[-2])\n",
    "    \n",
    "    return v\n",
    "\n",
    "def trapezoidal_integration(t, v):\n",
    "    h = np.diff(t)\n",
    "    integral = 0.5 * np.sum(h * (v[:-1] + v[1:]))\n",
    "    return integral\n",
    "\n",
    "\n",
    "v = finite_difference_velocity(t, s)\n",
    "\n",
    "\n",
    "distance_traveled = trapezoidal_integration(t, v)\n",
    "\n",
    "\n",
    "print(\"Velocity at each time step:\", v)\n",
    "assert distance_traveled == s[-1]\n",
    "print(\"Total distance traveled by the train:\", distance_traveled)"
   ]
  },
  {
   "cell_type": "code",
   "execution_count": 4,
   "metadata": {},
   "outputs": [
    {
     "data": {
      "text/html": [
       "<div>\n",
       "<style scoped>\n",
       "    .dataframe tbody tr th:only-of-type {\n",
       "        vertical-align: middle;\n",
       "    }\n",
       "\n",
       "    .dataframe tbody tr th {\n",
       "        vertical-align: top;\n",
       "    }\n",
       "\n",
       "    .dataframe thead th {\n",
       "        text-align: right;\n",
       "    }\n",
       "</style>\n",
       "<table border=\"1\" class=\"dataframe\">\n",
       "  <thead>\n",
       "    <tr style=\"text-align: right;\">\n",
       "      <th></th>\n",
       "      <th>time</th>\n",
       "      <th>velocity</th>\n",
       "    </tr>\n",
       "  </thead>\n",
       "  <tbody>\n",
       "    <tr>\n",
       "      <th>0</th>\n",
       "      <td>0.0</td>\n",
       "      <td>2.5</td>\n",
       "    </tr>\n",
       "    <tr>\n",
       "      <th>1</th>\n",
       "      <td>1.0</td>\n",
       "      <td>4.9</td>\n",
       "    </tr>\n",
       "    <tr>\n",
       "      <th>2</th>\n",
       "      <td>2.0</td>\n",
       "      <td>9.9</td>\n",
       "    </tr>\n",
       "    <tr>\n",
       "      <th>3</th>\n",
       "      <td>3.0</td>\n",
       "      <td>15.1</td>\n",
       "    </tr>\n",
       "    <tr>\n",
       "      <th>4</th>\n",
       "      <td>4.0</td>\n",
       "      <td>20.1</td>\n",
       "    </tr>\n",
       "    <tr>\n",
       "      <th>5</th>\n",
       "      <td>5.0</td>\n",
       "      <td>22.5</td>\n",
       "    </tr>\n",
       "  </tbody>\n",
       "</table>\n",
       "</div>"
      ],
      "text/plain": [
       "   time  velocity\n",
       "0   0.0       2.5\n",
       "1   1.0       4.9\n",
       "2   2.0       9.9\n",
       "3   3.0      15.1\n",
       "4   4.0      20.1\n",
       "5   5.0      22.5"
      ]
     },
     "execution_count": 4,
     "metadata": {},
     "output_type": "execute_result"
    }
   ],
   "source": [
    "df_2 = pd.DataFrame({'time': t, 'velocity': v})\n",
    "df_2"
   ]
  },
  {
   "cell_type": "code",
   "execution_count": 5,
   "metadata": {},
   "outputs": [
    {
     "data": {
      "image/png": "[encoded data removed]",
      "text/plain": [
       "<Figure size 640x480 with 1 Axes>"
      ]
     },
     "metadata": {},
     "output_type": "display_data"
    }
   ],
   "source": [
    "plt.plot(t, s, label='Position')\n",
    "plt.plot(t, v, label='Velocity')\n",
    "plt.xlabel('Time')\n",
    "plt.ylabel('Value')\n",
    "plt.legend()\n",
    "plt.show()\n"
   ]
  }
 ],
 "metadata": {
  "kernelspec": {
   "display_name": "cl249",
   "language": "python",
   "name": "python3"
  },
  "language_info": {
   "codemirror_mode": {
    "name": "ipython",
    "version": 3
   },
   "file_extension": ".py",
   "mimetype": "text/x-python",
   "name": "python",
   "nbconvert_exporter": "python",
   "pygments_lexer": "ipython3",
   "version": "3.12.4"
  }
 },
 "nbformat": 4,
 "nbformat_minor": 2
}
