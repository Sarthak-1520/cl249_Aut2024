{
 "cells": [
  {
   "cell_type": "markdown",
   "metadata": {},
   "source": [
    "## QUESTION 1 "
   ]
  },
  {
   "cell_type": "code",
   "execution_count": 1,
   "metadata": {},
   "outputs": [],
   "source": [
    "import numpy as np\n",
    "import pandas as pd \n",
    "\n",
    "Matrix = np.array([\n",
    "    [2, 3, 1, 4, 5],\n",
    "    [6, 13, 5, 19, 8],\n",
    "    [2, 19, 13, 17, 3],\n",
    "    [8, 3, 5, 25, 1],\n",
    "    [4, 4, 3, 7, 15]\n",
    "])\n",
    "\n"
   ]
  },
  {
   "cell_type": "code",
   "execution_count": 2,
   "metadata": {},
   "outputs": [],
   "source": [
    "def lu_decomposition(A, count_Decom):\n",
    "    \"\"\"\n",
    "    Performs LU decomposition on a given matrix A.\n",
    "\n",
    "    Args:\n",
    "        A (numpy array): The input matrix to be decomposed.\n",
    "        count_Decom (int): A counter to track the number of operations performed.\n",
    "\n",
    "    Returns:\n",
    "        L (numpy array): The lower triangular matrix.\n",
    "        U (numpy array): The upper triangular matrix.\n",
    "        count_Decom (int): The updated counter.\n",
    "    \"\"\"\n",
    "    n = A.shape[0]  # Get the number of rows (and columns) in the matrix\n",
    "    L = np.zeros((n, n))  # Initialize the lower triangular matrix\n",
    "    U = np.zeros((n, n))  # Initialize the upper triangular matrix\n",
    "\n",
    "    # Iterate over each row in the matrix\n",
    "    for i in range(n):\n",
    "        L[i, i] = 1  # Set the diagonal element of L to 1\n",
    "        # Iterate over each column in the current row\n",
    "        for k in range(i, n):\n",
    "            s = sum(L[i, j] * U[j, k] for j in range(i))\n",
    "            count_Decom += len(range(i))  # Increment the counter by the number of iterations\n",
    "            # Update the U element\n",
    "            U[i, k] = A[i, k] - s\n",
    "            count_Decom += 1  # Increment the counter by 1\n",
    "\n",
    "        # Iterate over each column in the current row (starting from the next row)\n",
    "        for k in range(i + 1, n):\n",
    "            # Calculate the sum of the products of L and U elements\n",
    "            s = sum(L[k, j] * U[j, i] for j in range(i))\n",
    "            count_Decom += len(range(i))  # Increment the counter by the number of iterations\n",
    "            # Update the L element\n",
    "            L[k, i] = (A[k, i] - s) / U[i, i]\n",
    "            count_Decom += 2  # Increment the counter by 2\n",
    "\n",
    "    return L, U, count_Decom"
   ]
  },
  {
   "cell_type": "code",
   "execution_count": 3,
   "metadata": {},
   "outputs": [],
   "source": [
    "def lu_solve(L, U, b, count_Solve):\n",
    "    \"\"\"\n",
    "    Solves a system of linear equations using LU decomposition.\n",
    "\n",
    "    Args:\n",
    "        L (numpy array): The lower triangular matrix.\n",
    "        U (numpy array): The upper triangular matrix.\n",
    "        b (numpy array): The right-hand side vector.\n",
    "        count_Solve (int): A counter to track the number of operations performed.\n",
    "\n",
    "    Returns:\n",
    "        x (numpy array): The solution vector.\n",
    "        count_Solve (int): The updated counter.\n",
    "    \"\"\"\n",
    "    n = L.shape[0]  # Get the number of rows (and columns) in the matrix\n",
    "    x = np.zeros(n)  # Initialize the solution vector\n",
    "\n",
    "    # Forward substitution \n",
    "    for i in range(n):\n",
    "        # Calculate the sum of the products of L and x elements\n",
    "        s = sum(L[i, j] * x[j] for j in range(i))\n",
    "        count_Solve += len(range(i))  # Increment the counter by the number of iterations\n",
    "        # Update the x element\n",
    "        x[i] = (b[i] - s) / L[i, i]\n",
    "        count_Solve += 2  # Increment the counter by 2\n",
    "\n",
    "    # Backward substitution \n",
    "    for i in range(n - 1, -1, -1):\n",
    "        # Calculate the sum of the products of U and x elements\n",
    "        s = sum(U[i, j] * x[j] for j in range(i + 1, n))\n",
    "        count_Solve += len(range(i + 1, n))  # Increment the counter by the number of iterations\n",
    "        # Update the x element\n",
    "        x[i] = (x[i] - s) / U[i, i]\n",
    "        count_Solve += 2  # Increment the counter by 2\n",
    "\n",
    "    return x, count_Solve"
   ]
  },
  {
   "cell_type": "code",
   "execution_count": 4,
   "metadata": {},
   "outputs": [],
   "source": [
    "def inverse(A):\n",
    "    \"\"\"\n",
    "    Computes the inverse of a matrix using LU decomposition.\n",
    "\n",
    "    Args:\n",
    "        A (numpy array): The input matrix.\n",
    "\n",
    "    Returns:\n",
    "        inverse_A (numpy array): The inverse of the input matrix.\n",
    "        count_Decom (int): The number of operations performed during LU decomposition.\n",
    "        count_Solve (int): The number of operations performed during solving.\n",
    "    \"\"\"\n",
    "    L, U, count_Decom = lu_decomposition(A, count_Decom=0)\n",
    "    n = A.shape[0]\n",
    "    I = np.eye(n)\n",
    "\n",
    "    inverse_A = np.zeros((n, n))\n",
    "    count_Solve = 0\n",
    "    for i in range(n):\n",
    "        b = I[:, i]\n",
    "        x, solve_count = lu_solve(L, U, b, count_Solve=0)\n",
    "        inverse_A[:, i] = x\n",
    "        count_Solve += solve_count\n",
    "\n",
    "    return inverse_A, count_Decom, count_Solve"
   ]
  },
  {
   "cell_type": "code",
   "execution_count": 5,
   "metadata": {},
   "outputs": [],
   "source": [
    "Inverse, count_Decom, count_Solve = inverse(Matrix)"
   ]
  },
  {
   "cell_type": "code",
   "execution_count": 6,
   "metadata": {},
   "outputs": [
    {
     "data": {
      "text/html": [
       "<div>\n",
       "<style scoped>\n",
       "    .dataframe tbody tr th:only-of-type {\n",
       "        vertical-align: middle;\n",
       "    }\n",
       "\n",
       "    .dataframe tbody tr th {\n",
       "        vertical-align: top;\n",
       "    }\n",
       "\n",
       "    .dataframe thead th {\n",
       "        text-align: right;\n",
       "    }\n",
       "</style>\n",
       "<table border=\"1\" class=\"dataframe\">\n",
       "  <thead>\n",
       "    <tr style=\"text-align: right;\">\n",
       "      <th></th>\n",
       "      <th>1</th>\n",
       "      <th>2</th>\n",
       "      <th>3</th>\n",
       "      <th>4</th>\n",
       "      <th>5</th>\n",
       "    </tr>\n",
       "  </thead>\n",
       "  <tbody>\n",
       "    <tr>\n",
       "      <th>1</th>\n",
       "      <td>4.951894</td>\n",
       "      <td>-1.206073</td>\n",
       "      <td>0.226032</td>\n",
       "      <td>0.270386</td>\n",
       "      <td>-1.070624</td>\n",
       "    </tr>\n",
       "    <tr>\n",
       "      <th>2</th>\n",
       "      <td>0.458547</td>\n",
       "      <td>0.006824</td>\n",
       "      <td>0.015694</td>\n",
       "      <td>-0.045377</td>\n",
       "      <td>-0.156602</td>\n",
       "    </tr>\n",
       "    <tr>\n",
       "      <th>3</th>\n",
       "      <td>1.161720</td>\n",
       "      <td>-0.491641</td>\n",
       "      <td>0.169226</td>\n",
       "      <td>0.119413</td>\n",
       "      <td>-0.166837</td>\n",
       "    </tr>\n",
       "    <tr>\n",
       "      <th>4</th>\n",
       "      <td>-1.839304</td>\n",
       "      <td>0.475606</td>\n",
       "      <td>-0.106107</td>\n",
       "      <td>-0.062777</td>\n",
       "      <td>0.384852</td>\n",
       "    </tr>\n",
       "    <tr>\n",
       "      <th>5</th>\n",
       "      <td>-0.816786</td>\n",
       "      <td>0.196179</td>\n",
       "      <td>-0.048789</td>\n",
       "      <td>-0.054589</td>\n",
       "      <td>0.247697</td>\n",
       "    </tr>\n",
       "  </tbody>\n",
       "</table>\n",
       "</div>"
      ],
      "text/plain": [
       "          1         2         3         4         5\n",
       "1  4.951894 -1.206073  0.226032  0.270386 -1.070624\n",
       "2  0.458547  0.006824  0.015694 -0.045377 -0.156602\n",
       "3  1.161720 -0.491641  0.169226  0.119413 -0.166837\n",
       "4 -1.839304  0.475606 -0.106107 -0.062777  0.384852\n",
       "5 -0.816786  0.196179 -0.048789 -0.054589  0.247697"
      ]
     },
     "execution_count": 6,
     "metadata": {},
     "output_type": "execute_result"
    }
   ],
   "source": [
    "df = pd.DataFrame(Inverse , columns = [\"1\" , \"2\" , \"3\" , \"4\" , \"5\"] , index=[\"1\" , \"2\" , \"3\" , \"4\" , \"5\"])\n",
    "df"
   ]
  },
  {
   "cell_type": "code",
   "execution_count": 7,
   "metadata": {},
   "outputs": [
    {
     "name": "stdout",
     "output_type": "stream",
     "text": [
      "Number of operations in decomposition:  65\n",
      "Number of operations in solving:  200\n",
      "Total number of operations:  265\n",
      "Number of Operations is defined as +, - , / , * , ** , and others\n"
     ]
    }
   ],
   "source": [
    "count_T = count_Decom + count_Solve \n",
    "\n",
    "print(\"Number of operations in decomposition: \", count_Decom)\n",
    "print(\"Number of operations in solving: \", count_Solve)\n",
    "print(\"Total number of operations: \", count_T)\n",
    "print(\"Number of Operations is defined as +, - , / , * , ** , and others\")\n"
   ]
  }
 ],
 "metadata": {
  "kernelspec": {
   "display_name": "cl249",
   "language": "python",
   "name": "python3"
  },
  "language_info": {
   "codemirror_mode": {
    "name": "ipython",
    "version": 3
   },
   "file_extension": ".py",
   "mimetype": "text/x-python",
   "name": "python",
   "nbconvert_exporter": "python",
   "pygments_lexer": "ipython3",
   "version": "3.12.4"
  }
 },
 "nbformat": 4,
 "nbformat_minor": 2
}
